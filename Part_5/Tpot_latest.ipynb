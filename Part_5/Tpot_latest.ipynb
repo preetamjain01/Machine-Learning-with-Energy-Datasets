{
 "cells": [
  {
   "cell_type": "markdown",
   "metadata": {},
   "source": [
    "# Tpot"
   ]
  },
  {
   "cell_type": "code",
   "execution_count": 8,
   "metadata": {},
   "outputs": [
    {
     "name": "stdout",
     "output_type": "stream",
     "text": [
      "(19735, 46)\n",
      "(17118, 46)\n"
     ]
    }
   ],
   "source": [
    "import pandas as pd\n",
    "import datetime\n",
    "import numpy as np\n",
    "import sklearn\n",
    "from tpot import TPOTRegressor \n",
    "from sklearn.cross_validation import train_test_split \n",
    "from sklearn.ensemble import RandomForestRegressor\n",
    "from sklearn.model_selection import RandomizedSearchCV\n",
    "from sklearn.grid_search import GridSearchCV\n",
    "from sklearn.metrics import *\n",
    "from sklearn.neural_network import MLPRegressor\n",
    "from sklearn.preprocessing import StandardScaler\n",
    "scaler = StandardScaler()\n",
    "def mean_absolute_percentage_error(y_true, y_pred): \n",
    "        y_true, y_pred = np.array(y_true), np.array(y_pred)\n",
    "        return np.mean(np.abs((y_true - y_pred) / y_true)) * 100\n",
    "weekend = ['Saturday','Sunday']\n",
    "def week_day_type(x):\n",
    "    if x in weekend:\n",
    "        return 'weekends'\n",
    "    else:\n",
    "        return 'weekdays'\n",
    "def time_slot(x):\n",
    "    if x in morning:\n",
    "        return 'morning'\n",
    "    elif x in afternoon:\n",
    "        return 'afternoon'\n",
    "    elif x in evening:\n",
    "        return 'evening'\n",
    "    else:\n",
    "        return 'night'  \n",
    "df=pd.read_csv(\"../Part_2/energydata_complete.csv\")\n",
    "df['date']=pd.to_datetime(df['date'])\n",
    "df['year']=df['date'].dt.year\n",
    "df['month']=df['date'].dt.month\n",
    "df['day']=df['date'].dt.day\n",
    "df['day_of_week']=df['date'].dt.weekday_name\n",
    "df['time_hr_24']=df['date'].dt.hour\n",
    "df['time_min']=df['date'].dt.minute\n",
    "df['week_day_type']=df['day_of_week'].map(week_day_type)\n",
    "morning=range(6,12)\n",
    "afternoon=range(12,17)\n",
    "evening=range(17,22)  \n",
    "df['time_slot']=df['time_hr_24'].map(time_slot)\n",
    "df.drop(['date'],axis=1,inplace=True)\n",
    "df=pd.get_dummies(df,prefix=['DOW','TS','WDT'],columns=['day_of_week','time_slot','week_day_type'])\n",
    "print(df.shape)\n",
    "df=df[(df['Appliances']-df['Appliances'].mean()).abs() <= 3*df['Appliances'].std()]\n",
    "df=df[(df['lights']-df['lights'].mean()).abs() <= 3*df['lights'].std()]\n",
    "df=df[(df['T1']-df['T1'].mean()).abs() <= 3*df['T1'].std()]\n",
    "df=df[(df['T2']-df['T2'].mean()).abs() <= 3*df['T2'].std()]\n",
    "df=df[(df['T3']-df['T3'].mean()).abs() <= 3*df['T3'].std()]\n",
    "df=df[(df['T4']-df['T4'].mean()).abs() <= 3*df['T4'].std()]\n",
    "df=df[(df['T5']-df['T5'].mean()).abs() <= 3*df['T5'].std()]\n",
    "df=df[(df['T6']-df['T6'].mean()).abs() <= 3*df['T6'].std()]\n",
    "df=df[(df['T7']-df['T7'].mean()).abs() <= 3*df['T7'].std()]\n",
    "df=df[(df['T8']-df['T8'].mean()).abs() <= 3*df['T8'].std()]\n",
    "df=df[(df['T9']-df['T9'].mean()).abs() <= 3*df['T9'].std()]\n",
    "df=df[(df['T_out']-df['T_out'].mean()).abs() <= 3*df['T_out'].std()]\n",
    "df=df[(df['RH_1']-df['RH_1'].mean()).abs() <= 3*df['RH_1'].std()]\n",
    "df=df[(df['RH_2']-df['RH_2'].mean()).abs() <= 3*df['RH_2'].std()]\n",
    "df=df[(df['RH_3']-df['RH_3'].mean()).abs() <= 3*df['RH_3'].std()]\n",
    "df=df[(df['RH_4']-df['RH_4'].mean()).abs() <= 3*df['RH_4'].std()]\n",
    "df=df[(df['RH_5']-df['RH_5'].mean()).abs() <= 3*df['RH_5'].std()]\n",
    "df=df[(df['RH_6']-df['RH_6'].mean()).abs() <= 3*df['RH_6'].std()]\n",
    "df=df[(df['RH_7']-df['RH_7'].mean()).abs() <= 3*df['RH_7'].std()]\n",
    "df=df[(df['RH_8']-df['RH_8'].mean()).abs() <= 3*df['RH_8'].std()]\n",
    "df=df[(df['RH_9']-df['RH_9'].mean()).abs() <= 3*df['RH_9'].std()]\n",
    "df=df[(df['RH_out']-df['RH_out'].mean()).abs() <= 3*df['RH_out'].std()]\n",
    "df=df[(df['Press_mm_hg']-df['Press_mm_hg'].mean()).abs() <= 3*df['Press_mm_hg'].std()]\n",
    "df=df[(df['Windspeed']-df['Windspeed'].mean()).abs() <= 3*df['Windspeed'].std()]\n",
    "df=df[(df['Visibility']-df['Visibility'].mean()).abs() <= 3*df['Visibility'].std()]\n",
    "df=df[(df['Tdewpoint']-df['Tdewpoint'].mean()).abs() <= 3*df['Tdewpoint'].std()]\n",
    "df=df[(df['rv1']-df['rv1'].mean()).abs() <= 3*df['rv1'].std()]\n",
    "df=df[(df['rv2']-df['rv2'].mean()).abs() <= 3*df['rv2'].std()]\n",
    "print(df.shape)"
   ]
  },
  {
   "cell_type": "markdown",
   "metadata": {},
   "source": [
    "Building the model"
   ]
  },
  {
   "cell_type": "code",
   "execution_count": 9,
   "metadata": {},
   "outputs": [],
   "source": [
    "df_train,df_test = train_test_split(df,train_size=0.7,random_state=42)\n",
    "x_train=df_train.iloc[:,1:]\n",
    "y_train=df_train['Appliances']\n",
    "scaler.fit(x_train)\n",
    "x_train_sc=scaler.transform(x_train)\n",
    "x_test=df_test.iloc[:,1:]\n",
    "y_test=df_test['Appliances']\n",
    "x_test_sc=scaler.transform(x_test)"
   ]
  },
  {
   "cell_type": "markdown",
   "metadata": {},
   "source": [
    "Tpot Code"
   ]
  },
  {
   "cell_type": "code",
   "execution_count": 10,
   "metadata": {},
   "outputs": [
    {
     "name": "stdout",
     "output_type": "stream",
     "text": [
      "Warning: xgboost.XGBRegressor is not available and will not be used by TPOT.\n"
     ]
    },
    {
     "data": {
      "application/vnd.jupyter.widget-view+json": {
       "model_id": "",
       "version_major": 2,
       "version_minor": 0
      },
      "text/plain": [
       "HBox(children=(IntProgress(value=0, description='Optimization Progress', max=60, style=ProgressStyle(descripti…"
      ]
     },
     "metadata": {},
     "output_type": "display_data"
    },
    {
     "name": "stdout",
     "output_type": "stream",
     "text": [
      "Generation 1 - Current best internal CV score: -2548.8963275925425\n",
      "Generation 2 - Current best internal CV score: -2483.679347811461\n",
      "Generation 3 - Current best internal CV score: -2446.1360116088354\n",
      "Generation 4 - Current best internal CV score: -2358.3214265342795\n",
      "Generation 5 - Current best internal CV score: -2358.3214265342795\n",
      "\n",
      "Best pipeline: RandomForestRegressor(ElasticNetCV(StandardScaler(input_matrix), l1_ratio=0.75, tol=0.01), bootstrap=False, max_features=0.4, min_samples_leaf=7, min_samples_split=14, n_estimators=100)\n"
     ]
    },
    {
     "data": {
      "text/plain": [
       "TPOTRegressor(config_dict=None, crossover_rate=0.1, cv=5,\n",
       "       disable_update_check=False, early_stop=None, generations=5,\n",
       "       max_eval_time_mins=5, max_time_mins=None, memory=None,\n",
       "       mutation_rate=0.9, n_jobs=1, offspring_size=None,\n",
       "       periodic_checkpoint_folder=None, population_size=10,\n",
       "       random_state=42, scoring=None, subsample=1.0, use_dask=False,\n",
       "       verbosity=2, warm_start=False)"
      ]
     },
     "execution_count": 10,
     "metadata": {},
     "output_type": "execute_result"
    }
   ],
   "source": [
    "my_tpot = TPOTRegressor(generations=5, population_size=10, cv=5,random_state=42, verbosity=2)  \n",
    "my_tpot.fit(x_train_sc, y_train)"
   ]
  },
  {
   "cell_type": "markdown",
   "metadata": {},
   "source": [
    "Accuracy for training data."
   ]
  },
  {
   "cell_type": "code",
   "execution_count": 11,
   "metadata": {},
   "outputs": [
    {
     "name": "stdout",
     "output_type": "stream",
     "text": [
      "-896.4760753819295\n"
     ]
    }
   ],
   "source": [
    "print(my_tpot.score(x_train_sc, y_train))"
   ]
  },
  {
   "cell_type": "markdown",
   "metadata": {},
   "source": [
    "Accuracy for testing data."
   ]
  },
  {
   "cell_type": "code",
   "execution_count": 12,
   "metadata": {},
   "outputs": [
    {
     "name": "stdout",
     "output_type": "stream",
     "text": [
      "-2086.75533645104\n"
     ]
    }
   ],
   "source": [
    "print(my_tpot.score(x_test_sc, y_test))"
   ]
  },
  {
   "cell_type": "markdown",
   "metadata": {},
   "source": [
    "Exporting the final code"
   ]
  },
  {
   "cell_type": "code",
   "execution_count": 13,
   "metadata": {},
   "outputs": [
    {
     "data": {
      "text/plain": [
       "True"
      ]
     },
     "execution_count": 13,
     "metadata": {},
     "output_type": "execute_result"
    }
   ],
   "source": [
    "my_tpot.export('expoted_pipeline.py')"
   ]
  }
 ],
 "metadata": {
  "kernelspec": {
   "display_name": "Python 3",
   "language": "python",
   "name": "python3"
  },
  "language_info": {
   "codemirror_mode": {
    "name": "ipython",
    "version": 3
   },
   "file_extension": ".py",
   "mimetype": "text/x-python",
   "name": "python",
   "nbconvert_exporter": "python",
   "pygments_lexer": "ipython3",
   "version": "3.6.5"
  }
 },
 "nbformat": 4,
 "nbformat_minor": 2
}
