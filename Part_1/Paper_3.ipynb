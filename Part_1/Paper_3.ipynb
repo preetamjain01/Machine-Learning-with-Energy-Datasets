{
 "cells": [
  {
   "cell_type": "markdown",
   "metadata": {},
   "source": [
    "RESEARCH PAPER 3: Prediction of appliances energy use in smart home\n",
    " \n",
    "Link - https://www.sciencedirect.com/science/article/pii/S0360544212002903\n",
    "\n",
    "This paper has been written with an aim to predict the energy consumption in household for the next day. To achieve this, they have collected data of homes of France and have analyzed and have come up with certain predictors. It has been studied that residential sector is the biggest sector in electricity consumption. And it is required that we understand the pattern of electricity consumption in household so that Industries can generate and transfer only that amount of energy to the household area to better circulate power. The energy market is divided into distinct categories, but the Day Ahead Market or Spot Market is of great interest. This type of energy market involves bidding the energy consumption of the next day. It is a very complex mechanism, which requires a very good knowledge of the demand for the power suppliers There were lots of theories which were proposed but it is important to understand the each and every criterion like number of appliances, usage of these appliances, day of week, etc. So, this paper concentrates more over discrimination of usage of electricity on appliance level which would make things easier to understand the pattern of usage of electricity over the course of time. In order to get a better load control, the energy prediction has to go down from total household energy consumption to electrical device consumption. The concept of smart grid has been introduced to tackle power system challenges. Smart grid initiatives seek to improve operations, maintenance and planning using modern technology to better manage energy use and costs. This would help industries to smartly circulate the generated electricity to different industry which would be much more efficient than present method. There have been lot of expectations which was not getting met as the usage of appliance differ over period of time on daily basis. A reliable model was required as usage of appliances on peak time was different as compared to other times. Thus, they came up with a concept called demand dispatch which is ability to control individual loads in precise manner at all the times and not only during peak times. This load management id of two types.\n",
    "\n",
    "• Direct Control: This method refers to classical method of load control which involves\n",
    "increasing the energy production in case of higher load demand.\n",
    "\n",
    "• Control by cost: This method refers to change the load curve shape in such a way that energy consumption peak decreases, even though the total energy consumption for the specific house stays the same. When it has been understood that we have to consider the usage of appliances to get a better picture of electricity consumption and load balancing, there are 4 different type of predictors which can be considered to calculate the same.\n",
    "8\n",
    "• The “will always consume” predictor: According to this predictor, we assume that an appliance is always running and consuming electricity.\n",
    "\n",
    "• The “will never consume” predictor: According to this predictor, we assume that an appliance is not at all being used and is not consuming electricity.\n",
    "\n",
    "• The ARMA predictor: ARMA stands for Autoregressive Moving Average. According to\n",
    "this method current value of a time variable is assumed to be a function of its past values\n",
    "and it is expressed as a weighted sum (moving average).\n",
    "\n",
    "• The proposed predictor: According to this model, an inhabitant in the house interacts\n",
    "with various electrical devices as part of his routine activities. Thus, energy consumption\n",
    "can be modeled as a process which is having a random probability distribution or pattern\n",
    "that may be analyzed statistically but may not be predicted precisely.\n",
    "\n",
    "Improving the precision of prediction is highly necessary. It is important for us to understand the pattern of usage of electricity. The segmentation of data can be made considering various aspects such as the season, month, period of the day (day/night), type of day (weekday/weekend). The objective of this operation is to reduce the average dispersion to improve the prediction. In such conditions, k-means clustering method can be precise to cluster similar data together. At last, I would like to conclude by saying forecasting the energy consumption in homes is an important aspect in the power management of the grid, as the consumption in the residential sector represents a significant percentage in the total electricity demand. The development of the smart grid is not possible without a good prediction of energy consumption. The trend nowadays is to get the prediction of energy consumption not only at house level, but at household appliance level. The prediction of energy consumption in housing is very dependent on inhabitants’ behavior, so a stochastic method for prediction has been presented in this paper.\n"
   ]
  },
  {
   "cell_type": "code",
   "execution_count": null,
   "metadata": {},
   "outputs": [],
   "source": []
  }
 ],
 "metadata": {
  "kernelspec": {
   "display_name": "Python 3",
   "language": "python",
   "name": "python3"
  },
  "language_info": {
   "codemirror_mode": {
    "name": "ipython",
    "version": 3
   },
   "file_extension": ".py",
   "mimetype": "text/x-python",
   "name": "python",
   "nbconvert_exporter": "python",
   "pygments_lexer": "ipython3",
   "version": "3.6.5"
  }
 },
 "nbformat": 4,
 "nbformat_minor": 2
}
