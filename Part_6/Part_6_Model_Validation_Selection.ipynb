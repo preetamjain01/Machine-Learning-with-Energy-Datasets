{
 "cells": [
  {
   "cell_type": "markdown",
   "metadata": {},
   "source": [
    "# Model Validation and Selection"
   ]
  },
  {
   "cell_type": "markdown",
   "metadata": {},
   "source": [
    "Creating a model"
   ]
  },
  {
   "cell_type": "code",
   "execution_count": 1,
   "metadata": {},
   "outputs": [
    {
     "name": "stderr",
     "output_type": "stream",
     "text": [
      "C:\\ProgramData\\Anaconda3\\lib\\site-packages\\sklearn\\cross_validation.py:41: DeprecationWarning: This module was deprecated in version 0.18 in favor of the model_selection module into which all the refactored classes and functions are moved. Also note that the interface of the new CV iterators are different from that of this module. This module will be removed in 0.20.\n",
      "  \"This module will be removed in 0.20.\", DeprecationWarning)\n",
      "C:\\ProgramData\\Anaconda3\\lib\\site-packages\\sklearn\\grid_search.py:42: DeprecationWarning: This module was deprecated in version 0.18 in favor of the model_selection module into which all the refactored classes and functions are moved. This module will be removed in 0.20.\n",
      "  DeprecationWarning)\n"
     ]
    },
    {
     "name": "stdout",
     "output_type": "stream",
     "text": [
      "(19735, 46)\n",
      "(17118, 46)\n"
     ]
    }
   ],
   "source": [
    "import pandas as pd\n",
    "import datetime\n",
    "import numpy as np\n",
    "import sklearn\n",
    "from sklearn.cross_validation import train_test_split \n",
    "from sklearn.ensemble import RandomForestRegressor\n",
    "from sklearn.model_selection import RandomizedSearchCV\n",
    "from sklearn.grid_search import GridSearchCV\n",
    "from sklearn import linear_model\n",
    "from sklearn.metrics import *\n",
    "from sklearn.neural_network import MLPRegressor\n",
    "from sklearn.preprocessing import StandardScaler\n",
    "scaler = StandardScaler()\n",
    "import matplotlib.pyplot as plt\n",
    "%matplotlib inline\n",
    "from matplotlib.pylab import rcParams\n",
    "rcParams['figure.figsize'] = 6, 4\n",
    "def mean_absolute_percentage_error(y_true, y_pred): \n",
    "        y_true, y_pred = np.array(y_true), np.array(y_pred)\n",
    "        return np.mean(np.abs((y_true - y_pred) / y_true)) * 100\n",
    "weekend = ['Saturday','Sunday']\n",
    "def week_day_type(x):\n",
    "    if x in weekend:\n",
    "        return 'weekends'\n",
    "    else:\n",
    "        return 'weekdays'\n",
    "def time_slot(x):\n",
    "    if x in morning:\n",
    "        return 'morning'\n",
    "    elif x in afternoon:\n",
    "        return 'afternoon'\n",
    "    elif x in evening:\n",
    "        return 'evening'\n",
    "    else:\n",
    "        return 'night'  \n",
    "df=pd.read_csv(\"../Part_2/energydata_complete.csv\")\n",
    "df['date']=pd.to_datetime(df['date'])\n",
    "df['year']=df['date'].dt.year\n",
    "df['month']=df['date'].dt.month\n",
    "df['day']=df['date'].dt.day\n",
    "df['day_of_week']=df['date'].dt.weekday_name\n",
    "df['time_hr_24']=df['date'].dt.hour\n",
    "df['time_min']=df['date'].dt.minute\n",
    "df['week_day_type']=df['day_of_week'].map(week_day_type)\n",
    "morning=range(6,12)\n",
    "afternoon=range(12,17)\n",
    "evening=range(17,22)  \n",
    "df['time_slot']=df['time_hr_24'].map(time_slot)\n",
    "df.drop(['date'],axis=1,inplace=True)\n",
    "df=pd.get_dummies(df,prefix=['DOW','TS','WDT'],columns=['day_of_week','time_slot','week_day_type'])\n",
    "print(df.shape)\n",
    "df=df[(df['Appliances']-df['Appliances'].mean()).abs() <= 3*df['Appliances'].std()]\n",
    "df=df[(df['lights']-df['lights'].mean()).abs() <= 3*df['lights'].std()]\n",
    "df=df[(df['T1']-df['T1'].mean()).abs() <= 3*df['T1'].std()]\n",
    "df=df[(df['T2']-df['T2'].mean()).abs() <= 3*df['T2'].std()]\n",
    "df=df[(df['T3']-df['T3'].mean()).abs() <= 3*df['T3'].std()]\n",
    "df=df[(df['T4']-df['T4'].mean()).abs() <= 3*df['T4'].std()]\n",
    "df=df[(df['T5']-df['T5'].mean()).abs() <= 3*df['T5'].std()]\n",
    "df=df[(df['T6']-df['T6'].mean()).abs() <= 3*df['T6'].std()]\n",
    "df=df[(df['T7']-df['T7'].mean()).abs() <= 3*df['T7'].std()]\n",
    "df=df[(df['T8']-df['T8'].mean()).abs() <= 3*df['T8'].std()]\n",
    "df=df[(df['T9']-df['T9'].mean()).abs() <= 3*df['T9'].std()]\n",
    "df=df[(df['T_out']-df['T_out'].mean()).abs() <= 3*df['T_out'].std()]\n",
    "df=df[(df['RH_1']-df['RH_1'].mean()).abs() <= 3*df['RH_1'].std()]\n",
    "df=df[(df['RH_2']-df['RH_2'].mean()).abs() <= 3*df['RH_2'].std()]\n",
    "df=df[(df['RH_3']-df['RH_3'].mean()).abs() <= 3*df['RH_3'].std()]\n",
    "df=df[(df['RH_4']-df['RH_4'].mean()).abs() <= 3*df['RH_4'].std()]\n",
    "df=df[(df['RH_5']-df['RH_5'].mean()).abs() <= 3*df['RH_5'].std()]\n",
    "df=df[(df['RH_6']-df['RH_6'].mean()).abs() <= 3*df['RH_6'].std()]\n",
    "df=df[(df['RH_7']-df['RH_7'].mean()).abs() <= 3*df['RH_7'].std()]\n",
    "df=df[(df['RH_8']-df['RH_8'].mean()).abs() <= 3*df['RH_8'].std()]\n",
    "df=df[(df['RH_9']-df['RH_9'].mean()).abs() <= 3*df['RH_9'].std()]\n",
    "df=df[(df['RH_out']-df['RH_out'].mean()).abs() <= 3*df['RH_out'].std()]\n",
    "df=df[(df['Press_mm_hg']-df['Press_mm_hg'].mean()).abs() <= 3*df['Press_mm_hg'].std()]\n",
    "df=df[(df['Windspeed']-df['Windspeed'].mean()).abs() <= 3*df['Windspeed'].std()]\n",
    "df=df[(df['Visibility']-df['Visibility'].mean()).abs() <= 3*df['Visibility'].std()]\n",
    "df=df[(df['Tdewpoint']-df['Tdewpoint'].mean()).abs() <= 3*df['Tdewpoint'].std()]\n",
    "df=df[(df['rv1']-df['rv1'].mean()).abs() <= 3*df['rv1'].std()]\n",
    "df=df[(df['rv2']-df['rv2'].mean()).abs() <= 3*df['rv2'].std()]\n",
    "print(df.shape)\n",
    "energy = df"
   ]
  },
  {
   "cell_type": "markdown",
   "metadata": {},
   "source": [
    "Now the model is ready, let's find ut how the data is distributed."
   ]
  },
  {
   "cell_type": "code",
   "execution_count": 2,
   "metadata": {},
   "outputs": [
    {
     "data": {
      "text/html": [
       "<div>\n",
       "<style scoped>\n",
       "    .dataframe tbody tr th:only-of-type {\n",
       "        vertical-align: middle;\n",
       "    }\n",
       "\n",
       "    .dataframe tbody tr th {\n",
       "        vertical-align: top;\n",
       "    }\n",
       "\n",
       "    .dataframe thead th {\n",
       "        text-align: right;\n",
       "    }\n",
       "</style>\n",
       "<table border=\"1\" class=\"dataframe\">\n",
       "  <thead>\n",
       "    <tr style=\"text-align: right;\">\n",
       "      <th></th>\n",
       "      <th>Appliances</th>\n",
       "      <th>lights</th>\n",
       "      <th>T1</th>\n",
       "      <th>RH_1</th>\n",
       "      <th>T2</th>\n",
       "      <th>RH_2</th>\n",
       "      <th>T3</th>\n",
       "      <th>RH_3</th>\n",
       "      <th>T4</th>\n",
       "      <th>RH_4</th>\n",
       "      <th>...</th>\n",
       "      <th>DOW_Sunday</th>\n",
       "      <th>DOW_Thursday</th>\n",
       "      <th>DOW_Tuesday</th>\n",
       "      <th>DOW_Wednesday</th>\n",
       "      <th>TS_afternoon</th>\n",
       "      <th>TS_evening</th>\n",
       "      <th>TS_morning</th>\n",
       "      <th>TS_night</th>\n",
       "      <th>WDT_weekdays</th>\n",
       "      <th>WDT_weekends</th>\n",
       "    </tr>\n",
       "  </thead>\n",
       "  <tbody>\n",
       "    <tr>\n",
       "      <th>27</th>\n",
       "      <td>100</td>\n",
       "      <td>20</td>\n",
       "      <td>21.356667</td>\n",
       "      <td>45.826667</td>\n",
       "      <td>20.666667</td>\n",
       "      <td>45.163333</td>\n",
       "      <td>20.390000</td>\n",
       "      <td>46.090000</td>\n",
       "      <td>19.390000</td>\n",
       "      <td>47.500000</td>\n",
       "      <td>...</td>\n",
       "      <td>0</td>\n",
       "      <td>0</td>\n",
       "      <td>0</td>\n",
       "      <td>0</td>\n",
       "      <td>0</td>\n",
       "      <td>1</td>\n",
       "      <td>0</td>\n",
       "      <td>0</td>\n",
       "      <td>1</td>\n",
       "      <td>0</td>\n",
       "    </tr>\n",
       "    <tr>\n",
       "      <th>28</th>\n",
       "      <td>100</td>\n",
       "      <td>20</td>\n",
       "      <td>21.390000</td>\n",
       "      <td>45.690000</td>\n",
       "      <td>20.700000</td>\n",
       "      <td>45.060000</td>\n",
       "      <td>20.390000</td>\n",
       "      <td>46.090000</td>\n",
       "      <td>19.426667</td>\n",
       "      <td>47.993333</td>\n",
       "      <td>...</td>\n",
       "      <td>0</td>\n",
       "      <td>0</td>\n",
       "      <td>0</td>\n",
       "      <td>0</td>\n",
       "      <td>0</td>\n",
       "      <td>1</td>\n",
       "      <td>0</td>\n",
       "      <td>0</td>\n",
       "      <td>1</td>\n",
       "      <td>0</td>\n",
       "    </tr>\n",
       "    <tr>\n",
       "      <th>29</th>\n",
       "      <td>100</td>\n",
       "      <td>20</td>\n",
       "      <td>21.500000</td>\n",
       "      <td>45.333333</td>\n",
       "      <td>20.700000</td>\n",
       "      <td>44.933333</td>\n",
       "      <td>20.390000</td>\n",
       "      <td>46.060000</td>\n",
       "      <td>19.566667</td>\n",
       "      <td>48.466667</td>\n",
       "      <td>...</td>\n",
       "      <td>0</td>\n",
       "      <td>0</td>\n",
       "      <td>0</td>\n",
       "      <td>0</td>\n",
       "      <td>0</td>\n",
       "      <td>1</td>\n",
       "      <td>0</td>\n",
       "      <td>0</td>\n",
       "      <td>1</td>\n",
       "      <td>0</td>\n",
       "    </tr>\n",
       "    <tr>\n",
       "      <th>30</th>\n",
       "      <td>110</td>\n",
       "      <td>20</td>\n",
       "      <td>21.500000</td>\n",
       "      <td>45.126667</td>\n",
       "      <td>20.790000</td>\n",
       "      <td>44.633333</td>\n",
       "      <td>20.390000</td>\n",
       "      <td>46.000000</td>\n",
       "      <td>19.666667</td>\n",
       "      <td>48.093333</td>\n",
       "      <td>...</td>\n",
       "      <td>0</td>\n",
       "      <td>0</td>\n",
       "      <td>0</td>\n",
       "      <td>0</td>\n",
       "      <td>0</td>\n",
       "      <td>0</td>\n",
       "      <td>0</td>\n",
       "      <td>1</td>\n",
       "      <td>1</td>\n",
       "      <td>0</td>\n",
       "    </tr>\n",
       "    <tr>\n",
       "      <th>31</th>\n",
       "      <td>400</td>\n",
       "      <td>20</td>\n",
       "      <td>21.533333</td>\n",
       "      <td>44.966667</td>\n",
       "      <td>20.790000</td>\n",
       "      <td>44.360000</td>\n",
       "      <td>20.426667</td>\n",
       "      <td>45.933333</td>\n",
       "      <td>19.600000</td>\n",
       "      <td>47.500000</td>\n",
       "      <td>...</td>\n",
       "      <td>0</td>\n",
       "      <td>0</td>\n",
       "      <td>0</td>\n",
       "      <td>0</td>\n",
       "      <td>0</td>\n",
       "      <td>0</td>\n",
       "      <td>0</td>\n",
       "      <td>1</td>\n",
       "      <td>1</td>\n",
       "      <td>0</td>\n",
       "    </tr>\n",
       "  </tbody>\n",
       "</table>\n",
       "<p>5 rows × 46 columns</p>\n",
       "</div>"
      ],
      "text/plain": [
       "    Appliances  lights         T1       RH_1         T2       RH_2         T3  \\\n",
       "27         100      20  21.356667  45.826667  20.666667  45.163333  20.390000   \n",
       "28         100      20  21.390000  45.690000  20.700000  45.060000  20.390000   \n",
       "29         100      20  21.500000  45.333333  20.700000  44.933333  20.390000   \n",
       "30         110      20  21.500000  45.126667  20.790000  44.633333  20.390000   \n",
       "31         400      20  21.533333  44.966667  20.790000  44.360000  20.426667   \n",
       "\n",
       "         RH_3         T4       RH_4      ...       DOW_Sunday  DOW_Thursday  \\\n",
       "27  46.090000  19.390000  47.500000      ...                0             0   \n",
       "28  46.090000  19.426667  47.993333      ...                0             0   \n",
       "29  46.060000  19.566667  48.466667      ...                0             0   \n",
       "30  46.000000  19.666667  48.093333      ...                0             0   \n",
       "31  45.933333  19.600000  47.500000      ...                0             0   \n",
       "\n",
       "    DOW_Tuesday  DOW_Wednesday  TS_afternoon  TS_evening  TS_morning  \\\n",
       "27            0              0             0           1           0   \n",
       "28            0              0             0           1           0   \n",
       "29            0              0             0           1           0   \n",
       "30            0              0             0           0           0   \n",
       "31            0              0             0           0           0   \n",
       "\n",
       "    TS_night  WDT_weekdays  WDT_weekends  \n",
       "27         0             1             0  \n",
       "28         0             1             0  \n",
       "29         0             1             0  \n",
       "30         1             1             0  \n",
       "31         1             1             0  \n",
       "\n",
       "[5 rows x 46 columns]"
      ]
     },
     "execution_count": 2,
     "metadata": {},
     "output_type": "execute_result"
    }
   ],
   "source": [
    "energy.head()"
   ]
  },
  {
   "cell_type": "markdown",
   "metadata": {},
   "source": [
    "Now when we now how the initial data is distributed, let's find out whethere it has any null values. Also, we have to find what are the nature of the data in our dataset. "
   ]
  },
  {
   "cell_type": "code",
   "execution_count": 3,
   "metadata": {},
   "outputs": [
    {
     "name": "stdout",
     "output_type": "stream",
     "text": [
      "<class 'pandas.core.frame.DataFrame'>\n",
      "Int64Index: 17118 entries, 27 to 19697\n",
      "Data columns (total 46 columns):\n",
      "Appliances       17118 non-null int64\n",
      "lights           17118 non-null int64\n",
      "T1               17118 non-null float64\n",
      "RH_1             17118 non-null float64\n",
      "T2               17118 non-null float64\n",
      "RH_2             17118 non-null float64\n",
      "T3               17118 non-null float64\n",
      "RH_3             17118 non-null float64\n",
      "T4               17118 non-null float64\n",
      "RH_4             17118 non-null float64\n",
      "T5               17118 non-null float64\n",
      "RH_5             17118 non-null float64\n",
      "T6               17118 non-null float64\n",
      "RH_6             17118 non-null float64\n",
      "T7               17118 non-null float64\n",
      "RH_7             17118 non-null float64\n",
      "T8               17118 non-null float64\n",
      "RH_8             17118 non-null float64\n",
      "T9               17118 non-null float64\n",
      "RH_9             17118 non-null float64\n",
      "T_out            17118 non-null float64\n",
      "Press_mm_hg      17118 non-null float64\n",
      "RH_out           17118 non-null float64\n",
      "Windspeed        17118 non-null float64\n",
      "Visibility       17118 non-null float64\n",
      "Tdewpoint        17118 non-null float64\n",
      "rv1              17118 non-null float64\n",
      "rv2              17118 non-null float64\n",
      "year             17118 non-null int64\n",
      "month            17118 non-null int64\n",
      "day              17118 non-null int64\n",
      "time_hr_24       17118 non-null int64\n",
      "time_min         17118 non-null int64\n",
      "DOW_Friday       17118 non-null uint8\n",
      "DOW_Monday       17118 non-null uint8\n",
      "DOW_Saturday     17118 non-null uint8\n",
      "DOW_Sunday       17118 non-null uint8\n",
      "DOW_Thursday     17118 non-null uint8\n",
      "DOW_Tuesday      17118 non-null uint8\n",
      "DOW_Wednesday    17118 non-null uint8\n",
      "TS_afternoon     17118 non-null uint8\n",
      "TS_evening       17118 non-null uint8\n",
      "TS_morning       17118 non-null uint8\n",
      "TS_night         17118 non-null uint8\n",
      "WDT_weekdays     17118 non-null uint8\n",
      "WDT_weekends     17118 non-null uint8\n",
      "dtypes: float64(26), int64(7), uint8(13)\n",
      "memory usage: 4.7 MB\n"
     ]
    }
   ],
   "source": [
    "energy.info()"
   ]
  },
  {
   "cell_type": "markdown",
   "metadata": {},
   "source": [
    "Detecting overfitting."
   ]
  },
  {
   "cell_type": "code",
   "execution_count": 4,
   "metadata": {},
   "outputs": [],
   "source": [
    "# Overfitting detecting\n",
    "from sklearn.preprocessing import PolynomialFeatures\n",
    "from sklearn import linear_model\n",
    "from sklearn.model_selection import train_test_split\n",
    "from sklearn.metrics import *"
   ]
  },
  {
   "cell_type": "markdown",
   "metadata": {},
   "source": [
    "Making the model to help us better analyze the data better."
   ]
  },
  {
   "cell_type": "code",
   "execution_count": 5,
   "metadata": {},
   "outputs": [
    {
     "name": "stderr",
     "output_type": "stream",
     "text": [
      "C:\\ProgramData\\Anaconda3\\lib\\site-packages\\sklearn\\model_selection\\_split.py:2026: FutureWarning: From version 0.21, test_size will always complement train_size unless both are specified.\n",
      "  FutureWarning)\n"
     ]
    }
   ],
   "source": [
    "df_train,df_test = train_test_split(df,train_size=0.7,random_state=42)\n",
    "x_train=df_train.iloc[:,1:]\n",
    "y_train=df_train['Appliances']\n",
    "scaler.fit(x_train)\n",
    "X_train=scaler.transform(x_train)\n",
    "x_test=df_test.iloc[:,1:]\n",
    "y_test=df_test['Appliances']\n",
    "X_test=scaler.transform(x_test)"
   ]
  },
  {
   "cell_type": "markdown",
   "metadata": {},
   "source": [
    "# Regularization"
   ]
  },
  {
   "cell_type": "code",
   "execution_count": 6,
   "metadata": {},
   "outputs": [],
   "source": [
    "# Set random_state as a const to make sure the same split will be generated every time you run the code.\n",
    "#X_train, X_test, y_train, y_test = train_test_split(X, Y, random_state=0)\n",
    "\n",
    "# Containers for note down the MSE\n",
    "train_mse_list = []\n",
    "test_mse_list = []\n",
    "degree_of_polynomial = []"
   ]
  },
  {
   "cell_type": "code",
   "execution_count": 7,
   "metadata": {},
   "outputs": [
    {
     "name": "stdout",
     "output_type": "stream",
     "text": [
      "\n",
      "Degree :  0\n",
      "For Training Data : \n",
      "R2   : 0.0\n",
      "MAE  : 42.3214053818724\n",
      "RMSE : 66.97022394230406\n",
      "MAPE : 59.438714429055615\n",
      "\n",
      "For Testing Data : \n",
      "R2   : -0.0006374735902034967\n",
      "MAE  : 41.2046509535851\n",
      "RMSE : 64.5491115646738\n",
      "MAPE : 59.736543365791405\n",
      "\n",
      "Degree :  1\n",
      "For Training Data : \n",
      "R2   : 0.24619548481936826\n",
      "MAE  : 34.80392849676698\n",
      "RMSE : 58.144831784060095\n",
      "MAPE : 45.72277398020789\n",
      "\n",
      "For Testing Data : \n",
      "R2   : 0.2298578580517695\n",
      "MAE  : 34.36635009974182\n",
      "RMSE : 56.62879649426638\n",
      "MAPE : 46.72952860193265\n",
      "\n",
      "Degree :  2\n",
      "For Training Data : \n",
      "R2   : 0.48024125999912826\n",
      "MAE  : 29.435697410047364\n",
      "RMSE : 48.28171094331926\n",
      "MAPE : 38.73221549272961\n",
      "\n",
      "For Testing Data : \n",
      "R2   : 0.38909915284424024\n",
      "MAE  : 31.031890013507592\n",
      "RMSE : 50.435606919659385\n",
      "MAPE : 41.60194677164027\n",
      "\n",
      "Degree :  3\n",
      "For Training Data : \n",
      "R2   : 0.9759986302656859\n",
      "MAE  : 7.650406059528747\n",
      "RMSE : 10.375278538453722\n",
      "MAPE : 13.264566632340562\n",
      "\n",
      "For Testing Data : \n",
      "R2   : -19.05326648593252\n",
      "MAE  : 125.02463821458667\n",
      "RMSE : 288.9644722529457\n",
      "MAPE : 168.4002916179499\n"
     ]
    },
    {
     "data": {
      "image/png": "[encoded data removed]",
      "text/plain": [
       "<Figure size 432x288 with 1 Axes>"
      ]
     },
     "metadata": {},
     "output_type": "display_data"
    }
   ],
   "source": [
    "# MSE of quartic expression will be very large compared with the lower degree, so let's just end at 3.\n",
    "for i in range(0, 4):\n",
    "    model = PolynomialFeatures(degree=i)\n",
    "    # Transfer the X to a polynomial form by using fit_transform\n",
    "    X_train_ = model.fit_transform(X_train)\n",
    "    X_test_ = model.fit_transform(X_test)\n",
    "    lm = linear_model.LinearRegression()\n",
    "    lm.fit(X_train_, y_train)\n",
    "    train_pred = lm.predict(X_train_)\n",
    "    train_mse_list.append(mean_squared_error(y_train, train_pred))\n",
    "    test_pred = lm.predict(X_test_)\n",
    "    test_mse_list.append(mean_squared_error(y_test, test_pred))\n",
    "    degree_of_polynomial.append(i)\n",
    "    print(\"\\nDegree : \",i)\n",
    "    print(\"For Training Data : \")\n",
    "    print(\"R2   :\",r2_score(y_train,train_pred))\n",
    "    print(\"MAE  :\",mean_absolute_error(y_train,train_pred))\n",
    "    print(\"RMSE :\",np.sqrt(mean_squared_error(y_train,train_pred)))\n",
    "    print(\"MAPE :\",mean_absolute_percentage_error(y_train,train_pred))\n",
    "    print(\"\\nFor Testing Data : \")\n",
    "    print(\"R2   :\",r2_score(y_test,test_pred))\n",
    "    print(\"MAE  :\",mean_absolute_error(y_test,test_pred))\n",
    "    print(\"RMSE :\",np.sqrt(mean_squared_error(y_test,test_pred)))\n",
    "    print(\"MAPE :\",mean_absolute_percentage_error(y_test,test_pred))\n",
    "\n",
    "plt.xlabel('degree of polynomial')\n",
    "plt.ylabel('MSE')\n",
    "plt.grid(True)\n",
    "plt.title('Polynomial Regression without Regularization')\n",
    "plt.plot(degree_of_polynomial, train_mse_list, '-b', degree_of_polynomial, test_mse_list, '-g')\n",
    "plt.show()"
   ]
  },
  {
   "cell_type": "markdown",
   "metadata": {},
   "source": [
    "Performing L1 (lasso)"
   ]
  },
  {
   "cell_type": "code",
   "execution_count": 8,
   "metadata": {},
   "outputs": [
    {
     "name": "stdout",
     "output_type": "stream",
     "text": [
      "\n",
      "Degree :  0\n",
      "For Training Data : \n",
      "R2   : 0.0\n",
      "MAE  : 42.3214053818724\n",
      "RMSE : 66.97022394230406\n",
      "MAPE : 59.438714429055615\n",
      "\n",
      "For Testing Data : \n",
      "R2   : -0.0006374735902034967\n",
      "MAE  : 41.2046509535851\n",
      "RMSE : 64.5491115646738\n",
      "MAPE : 59.736543365791405\n"
     ]
    },
    {
     "name": "stderr",
     "output_type": "stream",
     "text": [
      "C:\\ProgramData\\Anaconda3\\lib\\site-packages\\sklearn\\linear_model\\coordinate_descent.py:491: ConvergenceWarning: Objective did not converge. You might want to increase the number of iterations. Fitting data with very small alpha may cause precision problems.\n",
      "  ConvergenceWarning)\n"
     ]
    },
    {
     "name": "stdout",
     "output_type": "stream",
     "text": [
      "\n",
      "Degree :  1\n",
      "For Training Data : \n",
      "R2   : 0.2466775034423484\n",
      "MAE  : 34.818098659291024\n",
      "RMSE : 58.12623851945904\n",
      "MAPE : 45.82241820328964\n",
      "\n",
      "For Testing Data : \n",
      "R2   : 0.2299911110173104\n",
      "MAE  : 34.40618584262798\n",
      "RMSE : 56.623897215878245\n",
      "MAPE : 46.86547939504433\n",
      "\n",
      "Degree :  2\n",
      "For Training Data : \n",
      "R2   : 0.4674986388083078\n",
      "MAE  : 29.740709001773165\n",
      "RMSE : 48.86997448827269\n",
      "MAPE : 39.020585416537116\n",
      "\n",
      "For Testing Data : \n",
      "R2   : 0.3841091623698538\n",
      "MAE  : 30.954250279911506\n",
      "RMSE : 50.64117330184368\n",
      "MAPE : 41.278186123302795\n",
      "\n",
      "Degree :  3\n",
      "For Training Data : \n",
      "R2   : 0.8254063318717283\n",
      "MAE  : 17.55675699138289\n",
      "RMSE : 27.983111044570666\n",
      "MAPE : 25.07165094011222\n",
      "\n",
      "For Testing Data : \n",
      "R2   : 0.17950646370851475\n",
      "MAE  : 35.4360727229838\n",
      "RMSE : 58.45066676560852\n",
      "MAPE : 48.32550247897727\n"
     ]
    },
    {
     "data": {
      "image/png": "[encoded data removed]",
      "text/plain": [
       "<Figure size 432x288 with 1 Axes>"
      ]
     },
     "metadata": {},
     "output_type": "display_data"
    }
   ],
   "source": [
    "from sklearn.linear_model import Lasso\n",
    "\n",
    "# Randomly pick a alpha value for regularization\n",
    "l1reg = Lasso(alpha=0.000003, normalize=True)\n",
    "\n",
    "l1reg_test_mse_list = []\n",
    "\n",
    "for i in range(0, 4):\n",
    "    model = PolynomialFeatures(degree=i)\n",
    "    X_train_ = model.fit_transform(X_train)\n",
    "    X_test_ = model.fit_transform(X_test)\n",
    "    \n",
    "    l1reg.fit(X_train_, y_train)\n",
    "    train_pred_l1 = l1reg.predict(X_train_)\n",
    "    test_pred_l1 = l1reg.predict(X_test_)\n",
    "    l1reg_test_mse_list.append(mean_squared_error(y_test, test_pred_l1))\n",
    "    print(\"\\nDegree : \",i)\n",
    "    print(\"For Training Data : \")\n",
    "    print(\"R2   :\",r2_score(y_train,train_pred_l1))\n",
    "    print(\"MAE  :\",mean_absolute_error(y_train,train_pred_l1))\n",
    "    print(\"RMSE :\",np.sqrt(mean_squared_error(y_train,train_pred_l1)))\n",
    "    print(\"MAPE :\",mean_absolute_percentage_error(y_train,train_pred_l1))\n",
    "    print(\"\\nFor Testing Data : \")\n",
    "    print(\"R2   :\",r2_score(y_test,test_pred_l1))\n",
    "    print(\"MAE  :\",mean_absolute_error(y_test,test_pred_l1))\n",
    "    print(\"RMSE :\",np.sqrt(mean_squared_error(y_test,test_pred_l1)))\n",
    "    print(\"MAPE :\",mean_absolute_percentage_error(y_test,test_pred_l1))\n",
    "\n",
    "plt.xlabel('degree of polynomial')\n",
    "plt.ylabel('MSE')\n",
    "plt.grid(True)\n",
    "plt.title('Polynomial Regression without L1(Lasso) Regularization')\n",
    "plt.plot(degree_of_polynomial, test_mse_list, '-b', degree_of_polynomial, l1reg_test_mse_list, '--r')\n",
    "plt.show()"
   ]
  },
  {
   "cell_type": "markdown",
   "metadata": {},
   "source": [
    "Performing L2 (Ridge)"
   ]
  },
  {
   "cell_type": "code",
   "execution_count": 9,
   "metadata": {},
   "outputs": [
    {
     "name": "stdout",
     "output_type": "stream",
     "text": [
      "\n",
      "Degree :  0\n",
      "For Training Data : \n",
      "R2   : 0.0\n",
      "MAE  : 42.3214053818724\n",
      "RMSE : 66.97022394230406\n",
      "MAPE : 59.438714429055615\n",
      "\n",
      "For Testing Data : \n",
      "R2   : -0.0006374735902034967\n",
      "MAE  : 41.2046509535851\n",
      "RMSE : 64.5491115646738\n",
      "MAPE : 59.736543365791405\n",
      "\n",
      "Degree :  1\n",
      "For Training Data : \n",
      "R2   : 0.24667753674601323\n",
      "MAE  : 34.817539037137415\n",
      "RMSE : 58.1262372346064\n",
      "MAPE : 45.82119598498217\n",
      "\n",
      "For Testing Data : \n",
      "R2   : 0.2299872304602084\n",
      "MAE  : 34.40595455409023\n",
      "RMSE : 56.62403989734127\n",
      "MAPE : 46.8650037449777\n",
      "\n",
      "Degree :  2\n",
      "For Training Data : \n",
      "R2   : 0.4792382229106992\n",
      "MAE  : 29.390096776916774\n",
      "RMSE : 48.32827582154996\n",
      "MAPE : 38.610016305000386\n",
      "\n",
      "For Testing Data : \n",
      "R2   : 0.3907766433406593\n",
      "MAE  : 30.876464924609994\n",
      "RMSE : 50.366313014134285\n",
      "MAPE : 41.283023492698156\n",
      "\n",
      "Degree :  3\n",
      "For Training Data : \n",
      "R2   : 0.9094967178290296\n",
      "MAE  : 12.962958718243502\n",
      "RMSE : 20.14716373486387\n",
      "MAPE : 19.4335036254538\n",
      "\n",
      "For Testing Data : \n",
      "R2   : -0.3952451778813524\n",
      "MAE  : 42.591280660717544\n",
      "RMSE : 76.22144059275448\n",
      "MAPE : 56.91019458953388\n"
     ]
    },
    {
     "data": {
      "image/png": "[encoded data removed]",
      "text/plain": [
       "<Figure size 432x288 with 1 Axes>"
      ]
     },
     "metadata": {},
     "output_type": "display_data"
    }
   ],
   "source": [
    "from sklearn.linear_model import Ridge\n",
    "\n",
    "l2reg = Ridge(alpha=0.00003, normalize=True)\n",
    "\n",
    "l2reg_test_mse_list = []\n",
    "\n",
    "for i in range(0, 4):\n",
    "    model = PolynomialFeatures(degree=i)\n",
    "    X_train_ = model.fit_transform(X_train)\n",
    "    X_test_ = model.fit_transform(X_test)\n",
    "    \n",
    "    l2reg.fit(X_train_, y_train)\n",
    "    train_pred_l2 = l2reg.predict(X_train_)\n",
    "    test_pred_l2 = l2reg.predict(X_test_)\n",
    "    l2reg_test_mse_list.append(mean_squared_error(y_test, test_pred_l2))\n",
    "    print(\"\\nDegree : \",i)\n",
    "    print(\"For Training Data : \")\n",
    "    print(\"R2   :\",r2_score(y_train,train_pred_l2))\n",
    "    print(\"MAE  :\",mean_absolute_error(y_train,train_pred_l2))\n",
    "    print(\"RMSE :\",np.sqrt(mean_squared_error(y_train,train_pred_l2)))\n",
    "    print(\"MAPE :\",mean_absolute_percentage_error(y_train,train_pred_l2))\n",
    "    print(\"\\nFor Testing Data : \")\n",
    "    print(\"R2   :\",r2_score(y_test,test_pred_l2))\n",
    "    print(\"MAE  :\",mean_absolute_error(y_test,test_pred_l2))\n",
    "    print(\"RMSE :\",np.sqrt(mean_squared_error(y_test,test_pred_l2)))\n",
    "    print(\"MAPE :\",mean_absolute_percentage_error(y_test,test_pred_l2))\n",
    "\n",
    "plt.xlabel('degree of polynomial')\n",
    "plt.ylabel('MSE')\n",
    "plt.grid(True)\n",
    "plt.title('Polynomial Regression without L2(Ridge) Regularization')\n",
    "plt.plot(degree_of_polynomial, test_mse_list, '-b', degree_of_polynomial, l2reg_test_mse_list, '--r')\n",
    "plt.show()\n",
    "\n",
    "# Red dash line is the testing error after L2 regularization"
   ]
  },
  {
   "cell_type": "markdown",
   "metadata": {},
   "source": [
    "Performing ElasticNet"
   ]
  },
  {
   "cell_type": "code",
   "execution_count": 10,
   "metadata": {},
   "outputs": [
    {
     "name": "stdout",
     "output_type": "stream",
     "text": [
      "\n",
      "Degree :  0\n",
      "For Training Data : \n",
      "R2   : 0.0\n",
      "MAE  : 42.3214053818724\n",
      "RMSE : 66.97022394230406\n",
      "MAPE : 59.438714429055615\n",
      "\n",
      "For Testing Data : \n",
      "R2   : -0.0006374735902034967\n",
      "MAE  : 41.2046509535851\n",
      "RMSE : 64.5491115646738\n",
      "MAPE : 59.736543365791405\n",
      "\n",
      "Degree :  1\n",
      "For Training Data : \n",
      "R2   : 0.21159962829877954\n",
      "MAE  : 34.37472141991436\n",
      "RMSE : 59.464142612243826\n",
      "MAPE : 44.91581383180861\n",
      "\n",
      "For Testing Data : \n",
      "R2   : 0.20463218118338689\n",
      "MAE  : 33.69147640382885\n",
      "RMSE : 57.548750038515834\n",
      "MAPE : 45.498776210360035\n"
     ]
    },
    {
     "name": "stderr",
     "output_type": "stream",
     "text": [
      "C:\\ProgramData\\Anaconda3\\lib\\site-packages\\sklearn\\linear_model\\coordinate_descent.py:491: ConvergenceWarning: Objective did not converge. You might want to increase the number of iterations. Fitting data with very small alpha may cause precision problems.\n",
      "  ConvergenceWarning)\n"
     ]
    },
    {
     "name": "stdout",
     "output_type": "stream",
     "text": [
      "\n",
      "Degree :  2\n",
      "For Training Data : \n",
      "R2   : 0.36741170777381305\n",
      "MAE  : 31.027699357961275\n",
      "RMSE : 53.26504841459803\n",
      "MAPE : 39.8030536222072\n",
      "\n",
      "For Testing Data : \n",
      "R2   : 0.32472727355219333\n",
      "MAE  : 31.235391498436357\n",
      "RMSE : 53.02632048293679\n",
      "MAPE : 41.08460223827133\n",
      "\n",
      "Degree :  3\n",
      "For Training Data : \n",
      "R2   : 0.6041777714071427\n",
      "MAE  : 24.18121642499791\n",
      "RMSE : 42.13391754484241\n",
      "MAPE : 31.024321035045954\n",
      "\n",
      "For Testing Data : \n",
      "R2   : 0.4108482269016993\n",
      "MAE  : 29.034959755231156\n",
      "RMSE : 49.52967544141981\n",
      "MAPE : 37.64312680058393\n"
     ]
    },
    {
     "data": {
      "image/png": "[encoded data removed]",
      "text/plain": [
       "<Figure size 432x288 with 1 Axes>"
      ]
     },
     "metadata": {},
     "output_type": "display_data"
    }
   ],
   "source": [
    "from sklearn.linear_model import ElasticNet\n",
    "\n",
    "enreg = ElasticNet(alpha=0.00003, normalize=True)\n",
    "\n",
    "enreg_test_mse_list = []\n",
    "\n",
    "for i in range(0, 4):\n",
    "    model = PolynomialFeatures(degree=i)\n",
    "    X_train_ = model.fit_transform(X_train)\n",
    "    X_test_ = model.fit_transform(X_test)\n",
    "    \n",
    "    enreg.fit(X_train_, y_train)\n",
    "    train_pred_en = enreg.predict(X_train_)\n",
    "    test_pred_en = enreg.predict(X_test_)\n",
    "    enreg_test_mse_list.append(mean_squared_error(y_test, test_pred_en))\n",
    "    print(\"\\nDegree : \",i)\n",
    "    print(\"For Training Data : \")\n",
    "    print(\"R2   :\",r2_score(y_train,train_pred_en))\n",
    "    print(\"MAE  :\",mean_absolute_error(y_train,train_pred_en))\n",
    "    print(\"RMSE :\",np.sqrt(mean_squared_error(y_train,train_pred_en)))\n",
    "    print(\"MAPE :\",mean_absolute_percentage_error(y_train,train_pred_en))\n",
    "    print(\"\\nFor Testing Data : \")\n",
    "    print(\"R2   :\",r2_score(y_test,test_pred_en))\n",
    "    print(\"MAE  :\",mean_absolute_error(y_test,test_pred_en))\n",
    "    print(\"RMSE :\",np.sqrt(mean_squared_error(y_test,test_pred_en)))\n",
    "    print(\"MAPE :\",mean_absolute_percentage_error(y_test,test_pred_en))\n",
    "\n",
    "plt.xlabel('degree of polynomial')\n",
    "plt.ylabel('MSE')\n",
    "plt.grid(True)\n",
    "plt.title('Polynomial Regression without Elastic Net Regularization')\n",
    "plt.plot(degree_of_polynomial, test_mse_list, '-b', degree_of_polynomial, enreg_test_mse_list, '--r')\n",
    "plt.show()\n",
    "# Red dash line is the testing error after Elastic Net regularization"
   ]
  },
  {
   "cell_type": "markdown",
   "metadata": {},
   "source": [
    "trying to find the best value for alpha."
   ]
  },
  {
   "cell_type": "code",
   "execution_count": 11,
   "metadata": {},
   "outputs": [
    {
     "name": "stdout",
     "output_type": "stream",
     "text": [
      "The generalization score of linear regression model is 0.240964\n",
      "The generalization score of quadratic regression model is 0.379619\n"
     ]
    },
    {
     "name": "stderr",
     "output_type": "stream",
     "text": [
      "C:\\ProgramData\\Anaconda3\\lib\\site-packages\\sklearn\\linear_model\\coordinate_descent.py:491: ConvergenceWarning: Objective did not converge. You might want to increase the number of iterations. Fitting data with very small alpha may cause precision problems.\n",
      "  ConvergenceWarning)\n",
      "C:\\ProgramData\\Anaconda3\\lib\\site-packages\\sklearn\\linear_model\\coordinate_descent.py:491: ConvergenceWarning: Objective did not converge. You might want to increase the number of iterations. Fitting data with very small alpha may cause precision problems.\n",
      "  ConvergenceWarning)\n",
      "C:\\ProgramData\\Anaconda3\\lib\\site-packages\\sklearn\\linear_model\\coordinate_descent.py:491: ConvergenceWarning: Objective did not converge. You might want to increase the number of iterations. Fitting data with very small alpha may cause precision problems.\n",
      "  ConvergenceWarning)\n",
      "C:\\ProgramData\\Anaconda3\\lib\\site-packages\\sklearn\\linear_model\\coordinate_descent.py:491: ConvergenceWarning: Objective did not converge. You might want to increase the number of iterations. Fitting data with very small alpha may cause precision problems.\n",
      "  ConvergenceWarning)\n",
      "C:\\ProgramData\\Anaconda3\\lib\\site-packages\\sklearn\\linear_model\\coordinate_descent.py:491: ConvergenceWarning: Objective did not converge. You might want to increase the number of iterations. Fitting data with very small alpha may cause precision problems.\n",
      "  ConvergenceWarning)\n",
      "C:\\ProgramData\\Anaconda3\\lib\\site-packages\\sklearn\\linear_model\\coordinate_descent.py:491: ConvergenceWarning: Objective did not converge. You might want to increase the number of iterations. Fitting data with very small alpha may cause precision problems.\n",
      "  ConvergenceWarning)\n"
     ]
    },
    {
     "name": "stdout",
     "output_type": "stream",
     "text": [
      "The calculated optimal alpha is 0.000050 \n",
      "The max generalization score of L1 regularized polynomial regression model is 0.377953 +- 0.000245\n"
     ]
    },
    {
     "data": {
      "image/png": "[encoded data removed]",
      "text/plain": [
       "<Figure size 432x288 with 1 Axes>"
      ]
     },
     "metadata": {},
     "output_type": "display_data"
    }
   ],
   "source": [
    "from sklearn import model_selection\n",
    "\n",
    "# Use cross_val_score to measure the generalization performance of the model. We want to get the optimal alpha\n",
    "# which maximums the cross_val_score\n",
    "# Set the fold to 5 by \"cv=5\" since we does not want a high computation\n",
    "lm_score = np.mean(model_selection.cross_val_score(lm, X_train, y_train, n_jobs=1, cv=6))\n",
    "print ('The generalization score of linear regression model is %f' % np.mean(lm_score))\n",
    "\n",
    "# Since alpha=0.005 is not that good, we set it as a lower bound to find a better value. You can also set it as a\n",
    "# higher bound which does not matter.\n",
    "alphas = np.arange(5e-5, 1e-4, 5e-5)\n",
    "\n",
    "scores = []\n",
    "scores_std = []\n",
    "\n",
    "# Let's just set the degree of polynomial as 2 to simplify the calculation\n",
    "\n",
    "model = PolynomialFeatures(degree=2)\n",
    "X_train_ = model.fit_transform(X_train)\n",
    "\n",
    "pm_score = np.mean(model_selection.cross_val_score(lm, X_train_, y_train, n_jobs=1, cv=6))\n",
    "print ( 'The generalization score of quadratic regression model is %f' % np.mean(pm_score))\n",
    "\n",
    "# 5-fold CV will train the same alpha 5 times on 5 different train sets and return 5 different models.\n",
    "# Then it will test these 5 models on corresponding test sets to get the cross validation scores.\n",
    "# Average the scores as the final score of the given alpha.\n",
    "l1reg = Lasso(normalize=True)\n",
    "for alpha in alphas:\n",
    "    l1reg.alpha = alpha\n",
    "    this_scores = model_selection.cross_val_score(l1reg, X_train_, y_train, n_jobs=1, cv=6)\n",
    "    scores.append(np.mean(this_scores))\n",
    "    scores_std.append(np.std(this_scores))\n",
    "\n",
    "max_score = np.max(scores)\n",
    "max_score_pos = scores.index(max_score)\n",
    "optimal_alpha = alphas[max_score_pos]\n",
    "std_err = np.array(scores_std) / np.sqrt(len(X_train_))\n",
    "print ( 'The calculated optimal alpha is %f ' % optimal_alpha )\n",
    "print ('The max generalization score of L1 regularized polynomial regression model is %f +- %f' \\\n",
    "      % (max_score, std_err[max_score_pos]))\n",
    "\n",
    "plt.semilogx(alphas, np.array(scores), '-b')\n",
    "# plot error lines showing +/- std. errors of the scores\n",
    "plt.semilogx(alphas, np.array(scores) + std_err, '--b')\n",
    "plt.semilogx(alphas, np.array(scores) - std_err, '--b')\n",
    "plt.ylabel('CV score')\n",
    "plt.xlabel('alpha')\n",
    "plt.axhline(np.max(scores), linestyle='--', color='r')\n",
    "plt.axhline(lm_score, linestyle='--', color='g')\n",
    "plt.show()\n",
    "\n",
    "# Blue solid line is the cv scores with alpha increasing.\n",
    "# Blue dash line is the standard deviation of cv scores.\n",
    "# Red dash line is the max value of cv scores.\n",
    "# Green dash line is a bonus. It is the cv score of linear model. What we expect is that the cv score after\n",
    "# regularization with optimal alpha will be higher than original quadratic model. The truth is that it is even\n",
    "# higher than the linear model's. Even we look at the lower blue dash line."
   ]
  },
  {
   "cell_type": "markdown",
   "metadata": {},
   "source": [
    "Using the derived alpha to perfrom regularization. "
   ]
  },
  {
   "cell_type": "code",
   "execution_count": 12,
   "metadata": {},
   "outputs": [
    {
     "name": "stdout",
     "output_type": "stream",
     "text": [
      "\n",
      "Degree :  0\n",
      "For Training Data : \n",
      "R2   : 0.0\n",
      "MAE  : 42.3214053818724\n",
      "RMSE : 66.97022394230406\n",
      "MAPE : 59.438714429055615\n",
      "\n",
      "For Testing Data : \n",
      "R2   : -0.0006374735902034967\n",
      "MAE  : 41.2046509535851\n",
      "RMSE : 64.5491115646738\n",
      "MAPE : 59.736543365791405\n",
      "\n",
      "Degree :  1\n",
      "For Training Data : \n",
      "R2   : 0.24667369524767202\n",
      "MAE  : 34.80689378852208\n",
      "RMSE : 58.126385439107224\n",
      "MAPE : 45.80343971575928\n",
      "\n",
      "For Testing Data : \n",
      "R2   : 0.230059025337902\n",
      "MAE  : 34.39408953475732\n",
      "RMSE : 56.621400063987046\n",
      "MAPE : 46.84566047176926\n"
     ]
    },
    {
     "name": "stderr",
     "output_type": "stream",
     "text": [
      "C:\\ProgramData\\Anaconda3\\lib\\site-packages\\sklearn\\linear_model\\coordinate_descent.py:491: ConvergenceWarning: Objective did not converge. You might want to increase the number of iterations. Fitting data with very small alpha may cause precision problems.\n",
      "  ConvergenceWarning)\n"
     ]
    },
    {
     "name": "stdout",
     "output_type": "stream",
     "text": [
      "\n",
      "Degree :  2\n",
      "For Training Data : \n",
      "R2   : 0.4672018836429198\n",
      "MAE  : 29.594710540698898\n",
      "RMSE : 48.883589850115364\n",
      "MAPE : 38.69891858291855\n",
      "\n",
      "For Testing Data : \n",
      "R2   : 0.38632157827973745\n",
      "MAE  : 30.741592041241322\n",
      "RMSE : 50.550134330897365\n",
      "MAPE : 40.89884943024219\n",
      "\n",
      "Degree :  3\n",
      "For Training Data : \n",
      "R2   : 0.8060843217613135\n",
      "MAE  : 17.94516181149991\n",
      "RMSE : 29.490912661174292\n",
      "MAPE : 25.037778909560526\n",
      "\n",
      "For Testing Data : \n",
      "R2   : 0.29414362201061506\n",
      "MAE  : 32.84604262100623\n",
      "RMSE : 54.21382620971344\n",
      "MAPE : 44.55712800815658\n",
      "MSE of linear regression model is 3206.820592\n",
      "MSE of quadratic regression model is 2543.750445\n",
      "MSE of optimal L1 regularized quadratic regression model is 2555.316081\n"
     ]
    },
    {
     "data": {
      "image/png": "[encoded data removed]",
      "text/plain": [
       "<Figure size 432x288 with 1 Axes>"
      ]
     },
     "metadata": {},
     "output_type": "display_data"
    }
   ],
   "source": [
    "# Set the alpha as the optimal value we got from the last step\n",
    "\n",
    "optimal_l1reg = Lasso(alpha=0.000050, normalize=True)\n",
    "\n",
    "opt_l1reg_test_mse_list = []\n",
    "\n",
    "for i in range(0, 4):\n",
    "    model = PolynomialFeatures(degree=i)\n",
    "    X_train_ = model.fit_transform(X_train)\n",
    "    X_test_ = model.fit_transform(X_test)\n",
    "    optimal_l1reg.fit(X_train_, y_train)\n",
    "    train_opt_pred_l1 = optimal_l1reg.predict(X_train_)\n",
    "    test_opt_pred_l1 = optimal_l1reg.predict(X_test_)\n",
    "    opt_l1reg_test_mse_list.append(mean_squared_error(y_test, test_opt_pred_l1))\n",
    "    print(\"\\nDegree : \",i)\n",
    "    print(\"For Training Data : \")\n",
    "    print(\"R2   :\",r2_score(y_train,train_opt_pred_l1))\n",
    "    print(\"MAE  :\",mean_absolute_error(y_train,train_opt_pred_l1))\n",
    "    print(\"RMSE :\",np.sqrt(mean_squared_error(y_train,train_opt_pred_l1)))\n",
    "    print(\"MAPE :\",mean_absolute_percentage_error(y_train,train_opt_pred_l1))\n",
    "    print(\"\\nFor Testing Data : \")\n",
    "    print(\"R2   :\",r2_score(y_test,test_opt_pred_l1))\n",
    "    print(\"MAE  :\",mean_absolute_error(y_test,test_opt_pred_l1))\n",
    "    print(\"RMSE :\",np.sqrt(mean_squared_error(y_test,test_opt_pred_l1)))\n",
    "    print(\"MAPE :\",mean_absolute_percentage_error(y_test,test_opt_pred_l1))\n",
    "\n",
    "print ('MSE of linear regression model is %f' % test_mse_list[1])\n",
    "print ('MSE of quadratic regression model is %f' % test_mse_list[2])\n",
    "print ('MSE of optimal L1 regularized quadratic regression model is %f' % opt_l1reg_test_mse_list[2])\n",
    "\n",
    "\n",
    "plt.xlabel('degree of polynomial')\n",
    "plt.ylabel('MSE')\n",
    "\n",
    "plt.grid(True)\n",
    "plt.title('Polynomial Regression without L1(Lasso) Regularization')\n",
    "plt.plot(degree_of_polynomial, test_mse_list, '-b', degree_of_polynomial,  l1reg_test_mse_list, '--r',\n",
    "         degree_of_polynomial, opt_l1reg_test_mse_list, '--g')\n",
    "plt.show()\n",
    "\n",
    "# Green dash line is the testing error after L1 regularization with optimal alpha. We can see that it is lower\n",
    "# than the red dash line which using alpha=0.005."
   ]
  },
  {
   "cell_type": "code",
   "execution_count": 19,
   "metadata": {},
   "outputs": [
    {
     "name": "stdout",
     "output_type": "stream",
     "text": [
      "The generalization score of linear regression model is 0.240964\n",
      "The generalization score of quadratic regression model is 0.379619\n",
      "The calculated optimal alpha is 0.000050 \n",
      "The max generalization score of L2 regularized polynomial regression model is 0.381709 +- 0.000265\n"
     ]
    },
    {
     "data": {
      "image/png": "[encoded data removed]",
      "text/plain": [
       "<Figure size 432x288 with 1 Axes>"
      ]
     },
     "metadata": {},
     "output_type": "display_data"
    }
   ],
   "source": [
    "from sklearn import model_selection\n",
    "\n",
    "# Use cross_val_score to measure the generalization performance of the model. We want to get the optimal alpha\n",
    "# which maximums the cross_val_score\n",
    "# Set the fold to 5 by \"cv=5\" since we does not want a high computation\n",
    "lm_score = np.mean(model_selection.cross_val_score(lm, X_train, y_train, n_jobs=1, cv=6))\n",
    "print ('The generalization score of linear regression model is %f' % np.mean(lm_score))\n",
    "\n",
    "# Since alpha=0.005 is not that good, we set it as a lower bound to find a better value. You can also set it as a\n",
    "# higher bound which does not matter.\n",
    "alphas = np.arange(5e-5, 1e-4, 5e-5)\n",
    "\n",
    "scores = []\n",
    "scores_std = []\n",
    "\n",
    "# Let's just set the degree of polynomial as 2 to simplify the calculation\n",
    "\n",
    "model = PolynomialFeatures(degree=2)\n",
    "X_train_ = model.fit_transform(X_train)\n",
    "\n",
    "pm_score = np.mean(model_selection.cross_val_score(lm, X_train_, y_train, n_jobs=1, cv=6))\n",
    "print ( 'The generalization score of quadratic regression model is %f' % np.mean(pm_score))\n",
    "\n",
    "# 5-fold CV will train the same alpha 5 times on 5 different train sets and return 5 different models.\n",
    "# Then it will test these 5 models on corresponding test sets to get the cross validation scores.\n",
    "# Average the scores as the final score of the given alpha.\n",
    "l2reg = Ridge(normalize=True)\n",
    "for alpha in alphas:\n",
    "    l2reg.alpha = alpha\n",
    "    this_scores = model_selection.cross_val_score(l2reg, X_train_, y_train, n_jobs=1, cv=6)\n",
    "    scores.append(np.mean(this_scores))\n",
    "    scores_std.append(np.std(this_scores))\n",
    "\n",
    "max_score = np.max(scores)\n",
    "max_score_pos = scores.index(max_score)\n",
    "optimal_alpha = alphas[max_score_pos]\n",
    "std_err = np.array(scores_std) / np.sqrt(len(X_train_))\n",
    "print ( 'The calculated optimal alpha is %f ' % optimal_alpha )\n",
    "print ('The max generalization score of L2 regularized polynomial regression model is %f +- %f' \\\n",
    "      % (max_score, std_err[max_score_pos]))\n",
    "\n",
    "plt.semilogx(alphas, np.array(scores), '-b')\n",
    "# plot error lines showing +/- std. errors of the scores\n",
    "plt.semilogx(alphas, np.array(scores) + std_err, '--b')\n",
    "plt.semilogx(alphas, np.array(scores) - std_err, '--b')\n",
    "plt.ylabel('CV score')\n",
    "plt.xlabel('alpha')\n",
    "plt.axhline(np.max(scores), linestyle='--', color='r')\n",
    "plt.axhline(lm_score, linestyle='--', color='g')\n",
    "plt.show()\n",
    "\n",
    "# Blue solid line is the cv scores with alpha increasing.\n",
    "# Blue dash line is the standard deviation of cv scores.\n",
    "# Red dash line is the max value of cv scores.\n",
    "# Green dash line is a bonus. It is the cv score of linear model. What we expect is that the cv score after\n",
    "# regularization with optimal alpha will be higher than original quadratic model. The truth is that it is even\n",
    "# higher than the linear model's. Even we look at the lower blue dash line."
   ]
  },
  {
   "cell_type": "code",
   "execution_count": 13,
   "metadata": {},
   "outputs": [
    {
     "name": "stdout",
     "output_type": "stream",
     "text": [
      "\n",
      "Degree :  0\n",
      "For Training Data : \n",
      "R2   : 0.0\n",
      "MAE  : 42.3214053818724\n",
      "RMSE : 66.97022394230406\n",
      "MAPE : 59.438714429055615\n",
      "\n",
      "For Testing Data : \n",
      "R2   : -0.0006374735902034967\n",
      "MAE  : 41.2046509535851\n",
      "RMSE : 64.5491115646738\n",
      "MAPE : 59.736543365791405\n",
      "\n",
      "Degree :  1\n",
      "For Training Data : \n",
      "R2   : 0.24667746223099996\n",
      "MAE  : 34.81677094898411\n",
      "RMSE : 58.12624010938941\n",
      "MAPE : 45.81986812353821\n",
      "\n",
      "For Testing Data : \n",
      "R2   : 0.22999536080825556\n",
      "MAE  : 34.405082750334905\n",
      "RMSE : 56.62374095790438\n",
      "MAPE : 46.8634899154764\n",
      "\n",
      "Degree :  2\n",
      "For Training Data : \n",
      "R2   : 0.4787140970559245\n",
      "MAE  : 29.380169704676053\n",
      "RMSE : 48.35258994151983\n",
      "MAPE : 38.570643988156874\n",
      "\n",
      "For Testing Data : \n",
      "R2   : 0.3910449410923299\n",
      "MAE  : 30.83299749290556\n",
      "RMSE : 50.355221304912966\n",
      "MAPE : 41.19152455809342\n",
      "\n",
      "Degree :  3\n",
      "For Training Data : \n",
      "R2   : 0.9000059787718147\n",
      "MAE  : 13.506346470214703\n",
      "RMSE : 21.17721120996598\n",
      "MAPE : 20.027074299417144\n",
      "\n",
      "For Testing Data : \n",
      "R2   : -0.22393028340813137\n",
      "MAE  : 40.482104077079455\n",
      "RMSE : 71.38882401298025\n",
      "MAPE : 54.27542408956515\n",
      "MSE of linear regression model is 3206.820592\n",
      "MSE of quadratic regression model is 2543.750445\n",
      "MSE of optimal L2 regularized quadratic regression model is 2535.648313\n"
     ]
    },
    {
     "data": {
      "image/png": "[encoded data removed]",
      "text/plain": [
       "<Figure size 432x288 with 1 Axes>"
      ]
     },
     "metadata": {},
     "output_type": "display_data"
    }
   ],
   "source": [
    "# Set the alpha as the optimal value we got from the last step\n",
    "\n",
    "optimal_l2reg = Ridge(alpha=0.000050, normalize=True)\n",
    "\n",
    "opt_l2reg_test_mse_list = []\n",
    "\n",
    "for i in range(0, 4):\n",
    "    model = PolynomialFeatures(degree=i)\n",
    "    X_train_ = model.fit_transform(X_train)\n",
    "    X_test_ = model.fit_transform(X_test)\n",
    "    optimal_l2reg.fit(X_train_, y_train)\n",
    "    train_opt_pred_l2 = optimal_l2reg.predict(X_train_)\n",
    "    test_opt_pred_l2 = optimal_l2reg.predict(X_test_)\n",
    "    opt_l2reg_test_mse_list.append(mean_squared_error(y_test, test_opt_pred_l2))\n",
    "    print(\"\\nDegree : \",i)\n",
    "    print(\"For Training Data : \")\n",
    "    print(\"R2   :\",r2_score(y_train,train_opt_pred_l2))\n",
    "    print(\"MAE  :\",mean_absolute_error(y_train,train_opt_pred_l2))\n",
    "    print(\"RMSE :\",np.sqrt(mean_squared_error(y_train,train_opt_pred_l2)))\n",
    "    print(\"MAPE :\",mean_absolute_percentage_error(y_train,train_opt_pred_l2))\n",
    "    print(\"\\nFor Testing Data : \")\n",
    "    print(\"R2   :\",r2_score(y_test,test_opt_pred_l2))\n",
    "    print(\"MAE  :\",mean_absolute_error(y_test,test_opt_pred_l2))\n",
    "    print(\"RMSE :\",np.sqrt(mean_squared_error(y_test,test_opt_pred_l2)))\n",
    "    print(\"MAPE :\",mean_absolute_percentage_error(y_test,test_opt_pred_l2))\n",
    "\n",
    "print ('MSE of linear regression model is %f' % test_mse_list[1])\n",
    "print ('MSE of quadratic regression model is %f' % test_mse_list[2])\n",
    "print ('MSE of optimal L2 regularized quadratic regression model is %f' % opt_l2reg_test_mse_list[2])\n",
    "\n",
    "\n",
    "plt.xlabel('degree of polynomial')\n",
    "plt.ylabel('MSE')\n",
    "\n",
    "plt.grid(True)\n",
    "plt.title('Polynomial Regression without L2(Ridge) Regularization')\n",
    "plt.plot(degree_of_polynomial, test_mse_list, '-b', degree_of_polynomial,  l2reg_test_mse_list, '--r',\n",
    "         degree_of_polynomial, opt_l2reg_test_mse_list, '--g')\n",
    "plt.show()"
   ]
  },
  {
   "cell_type": "code",
   "execution_count": 20,
   "metadata": {},
   "outputs": [
    {
     "name": "stdout",
     "output_type": "stream",
     "text": [
      "The generalization score of linear regression model is 0.240964\n",
      "The generalization score of quadratic regression model is 0.379619\n"
     ]
    },
    {
     "name": "stderr",
     "output_type": "stream",
     "text": [
      "C:\\ProgramData\\Anaconda3\\lib\\site-packages\\sklearn\\linear_model\\coordinate_descent.py:491: ConvergenceWarning: Objective did not converge. You might want to increase the number of iterations. Fitting data with very small alpha may cause precision problems.\n",
      "  ConvergenceWarning)\n",
      "C:\\ProgramData\\Anaconda3\\lib\\site-packages\\sklearn\\linear_model\\coordinate_descent.py:491: ConvergenceWarning: Objective did not converge. You might want to increase the number of iterations. Fitting data with very small alpha may cause precision problems.\n",
      "  ConvergenceWarning)\n",
      "C:\\ProgramData\\Anaconda3\\lib\\site-packages\\sklearn\\linear_model\\coordinate_descent.py:491: ConvergenceWarning: Objective did not converge. You might want to increase the number of iterations. Fitting data with very small alpha may cause precision problems.\n",
      "  ConvergenceWarning)\n",
      "C:\\ProgramData\\Anaconda3\\lib\\site-packages\\sklearn\\linear_model\\coordinate_descent.py:491: ConvergenceWarning: Objective did not converge. You might want to increase the number of iterations. Fitting data with very small alpha may cause precision problems.\n",
      "  ConvergenceWarning)\n",
      "C:\\ProgramData\\Anaconda3\\lib\\site-packages\\sklearn\\linear_model\\coordinate_descent.py:491: ConvergenceWarning: Objective did not converge. You might want to increase the number of iterations. Fitting data with very small alpha may cause precision problems.\n",
      "  ConvergenceWarning)\n",
      "C:\\ProgramData\\Anaconda3\\lib\\site-packages\\sklearn\\linear_model\\coordinate_descent.py:491: ConvergenceWarning: Objective did not converge. You might want to increase the number of iterations. Fitting data with very small alpha may cause precision problems.\n",
      "  ConvergenceWarning)\n"
     ]
    },
    {
     "name": "stdout",
     "output_type": "stream",
     "text": [
      "The calculated optimal alpha is 0.000050 \n",
      "The max generalization score of ElasticNet regularized polynomial regression model is 0.317952 +- 0.000142\n"
     ]
    },
    {
     "data": {
      "image/png": "[encoded data removed]",
      "text/plain": [
       "<Figure size 432x288 with 1 Axes>"
      ]
     },
     "metadata": {},
     "output_type": "display_data"
    }
   ],
   "source": [
    "from sklearn import model_selection\n",
    "\n",
    "# Use cross_val_score to measure the generalization performance of the model. We want to get the optimal alpha\n",
    "# which maximums the cross_val_score\n",
    "# Set the fold to 5 by \"cv=5\" since we does not want a high computation\n",
    "lm_score = np.mean(model_selection.cross_val_score(lm, X_train, y_train, n_jobs=1, cv=6))\n",
    "print ('The generalization score of linear regression model is %f' % np.mean(lm_score))\n",
    "\n",
    "# Since alpha=0.005 is not that good, we set it as a lower bound to find a better value. You can also set it as a\n",
    "# higher bound which does not matter.\n",
    "alphas = np.arange(5e-5, 1e-4, 5e-5)\n",
    "\n",
    "scores = []\n",
    "scores_std = []\n",
    "\n",
    "# Let's just set the degree of polynomial as 2 to simplify the calculation\n",
    "\n",
    "model = PolynomialFeatures(degree=2)\n",
    "X_train_ = model.fit_transform(X_train)\n",
    "\n",
    "pm_score = np.mean(model_selection.cross_val_score(lm, X_train_, y_train, n_jobs=1, cv=6))\n",
    "print ( 'The generalization score of quadratic regression model is %f' % np.mean(pm_score))\n",
    "\n",
    "# 5-fold CV will train the same alpha 5 times on 5 different train sets and return 5 different models.\n",
    "# Then it will test these 5 models on corresponding test sets to get the cross validation scores.\n",
    "# Average the scores as the final score of the given alpha.\n",
    "enreg = ElasticNet(normalize=True)\n",
    "for alpha in alphas:\n",
    "    enreg.alpha = alpha\n",
    "    this_scores = model_selection.cross_val_score(enreg, X_train_, y_train, n_jobs=1, cv=6)\n",
    "    scores.append(np.mean(this_scores))\n",
    "    scores_std.append(np.std(this_scores))\n",
    "\n",
    "max_score = np.max(scores)\n",
    "max_score_pos = scores.index(max_score)\n",
    "optimal_alpha = alphas[max_score_pos]\n",
    "std_err = np.array(scores_std) / np.sqrt(len(X_train_))\n",
    "print ( 'The calculated optimal alpha is %f ' % optimal_alpha )\n",
    "print ('The max generalization score of ElasticNet regularized polynomial regression model is %f +- %f' \\\n",
    "      % (max_score, std_err[max_score_pos]))\n",
    "\n",
    "plt.semilogx(alphas, np.array(scores), '-b')\n",
    "# plot error lines showing +/- std. errors of the scores\n",
    "plt.semilogx(alphas, np.array(scores) + std_err, '--b')\n",
    "plt.semilogx(alphas, np.array(scores) - std_err, '--b')\n",
    "plt.ylabel('CV score')\n",
    "plt.xlabel('alpha')\n",
    "plt.axhline(np.max(scores), linestyle='--', color='r')\n",
    "plt.axhline(lm_score, linestyle='--', color='g')\n",
    "plt.show()\n",
    "# Blue solid line is the cv scores with alpha increasing.\n",
    "# Blue dash line is the standard deviation of cv scores.\n",
    "# Red dash line is the max value of cv scores.\n",
    "# Green dash line is a bonus. It is the cv score of linear model. What we expect is that the cv score after\n",
    "# regularization with optimal alpha will be higher than original quadratic model. The truth is that it is even\n",
    "# higher than the linear model's. Even we look at the lower blue dash line."
   ]
  },
  {
   "cell_type": "code",
   "execution_count": 14,
   "metadata": {},
   "outputs": [
    {
     "name": "stdout",
     "output_type": "stream",
     "text": [
      "\n",
      "Degree :  0\n",
      "For Training Data : \n",
      "R2   : 0.0\n",
      "MAE  : 42.3214053818724\n",
      "RMSE : 66.97022394230406\n",
      "MAPE : 59.438714429055615\n",
      "\n",
      "For Testing Data : \n",
      "R2   : -0.0006374735902034967\n",
      "MAE  : 41.2046509535851\n",
      "RMSE : 64.5491115646738\n",
      "MAPE : 59.736543365791405\n",
      "\n",
      "Degree :  1\n",
      "For Training Data : \n",
      "R2   : 0.2008056339139337\n",
      "MAE  : 34.37562696301591\n",
      "RMSE : 59.86982076993888\n",
      "MAPE : 44.97798196278254\n",
      "\n",
      "For Testing Data : \n",
      "R2   : 0.19491500806001205\n",
      "MAE  : 33.63690250874567\n",
      "RMSE : 57.899225321051844\n",
      "MAPE : 45.47545069399212\n"
     ]
    },
    {
     "name": "stderr",
     "output_type": "stream",
     "text": [
      "C:\\ProgramData\\Anaconda3\\lib\\site-packages\\sklearn\\linear_model\\coordinate_descent.py:491: ConvergenceWarning: Objective did not converge. You might want to increase the number of iterations. Fitting data with very small alpha may cause precision problems.\n",
      "  ConvergenceWarning)\n"
     ]
    },
    {
     "name": "stdout",
     "output_type": "stream",
     "text": [
      "\n",
      "Degree :  2\n",
      "For Training Data : \n",
      "R2   : 0.34840160949689913\n",
      "MAE  : 31.377783331347104\n",
      "RMSE : 54.05946615065871\n",
      "MAPE : 40.25982707668066\n",
      "\n",
      "For Testing Data : \n",
      "R2   : 0.31067977109311695\n",
      "MAE  : 31.44356313995163\n",
      "RMSE : 53.57502709959463\n",
      "MAPE : 41.389428788612676\n",
      "\n",
      "Degree :  3\n",
      "For Training Data : \n",
      "R2   : 0.5757245792187303\n",
      "MAE  : 24.97411933378405\n",
      "RMSE : 43.6220114693808\n",
      "MAPE : 31.8868944609839\n",
      "\n",
      "For Testing Data : \n",
      "R2   : 0.4046130164035331\n",
      "MAE  : 29.07541337678263\n",
      "RMSE : 49.791081034864625\n",
      "MAPE : 37.636815171374174\n",
      "MSE of linear regression model is 3206.820592\n",
      "MSE of quadratic regression model is 2543.750445\n",
      "MSE of optimal L2 regularized quadratic regression model is 2870.283529\n"
     ]
    },
    {
     "data": {
      "image/png": "[encoded data removed]",
      "text/plain": [
       "<Figure size 432x288 with 1 Axes>"
      ]
     },
     "metadata": {},
     "output_type": "display_data"
    }
   ],
   "source": [
    "optimal_enreg = ElasticNet(alpha=0.000050, normalize=True)\n",
    "\n",
    "opt_enreg_test_mse_list = []\n",
    "\n",
    "for i in range(0, 4):\n",
    "    model = PolynomialFeatures(degree=i)\n",
    "    X_train_ = model.fit_transform(X_train)\n",
    "    X_test_ = model.fit_transform(X_test)\n",
    "    optimal_enreg.fit(X_train_, y_train)\n",
    "    train_opt_pred_enreg = optimal_enreg.predict(X_train_)\n",
    "    test_opt_pred_enreg = optimal_enreg.predict(X_test_)\n",
    "    opt_enreg_test_mse_list.append(mean_squared_error(y_test, test_opt_pred_enreg))\n",
    "    print(\"\\nDegree : \",i)\n",
    "    print(\"For Training Data : \")\n",
    "    print(\"R2   :\",r2_score(y_train,train_opt_pred_enreg))\n",
    "    print(\"MAE  :\",mean_absolute_error(y_train,train_opt_pred_enreg))\n",
    "    print(\"RMSE :\",np.sqrt(mean_squared_error(y_train,train_opt_pred_enreg)))\n",
    "    print(\"MAPE :\",mean_absolute_percentage_error(y_train,train_opt_pred_enreg))\n",
    "    print(\"\\nFor Testing Data : \")\n",
    "    print(\"R2   :\",r2_score(y_test,test_opt_pred_enreg))\n",
    "    print(\"MAE  :\",mean_absolute_error(y_test,test_opt_pred_enreg))\n",
    "    print(\"RMSE :\",np.sqrt(mean_squared_error(y_test,test_opt_pred_enreg)))\n",
    "    print(\"MAPE :\",mean_absolute_percentage_error(y_test,test_opt_pred_enreg))\n",
    "\n",
    "print ('MSE of linear regression model is %f' % test_mse_list[1])\n",
    "print ('MSE of quadratic regression model is %f' % test_mse_list[2])\n",
    "print ('MSE of optimal L2 regularized quadratic regression model is %f' % opt_enreg_test_mse_list[2])\n",
    "\n",
    "\n",
    "plt.xlabel('degree of polynomial')\n",
    "plt.ylabel('MSE')\n",
    "\n",
    "plt.grid(True)\n",
    "plt.title('Polynomial Regression without L2(Ridge) Regularization')\n",
    "plt.plot(degree_of_polynomial, test_mse_list, '-b', degree_of_polynomial,  enreg_test_mse_list, '--r',\n",
    "         degree_of_polynomial, opt_enreg_test_mse_list, '--g')\n",
    "plt.show()"
   ]
  },
  {
   "cell_type": "markdown",
   "metadata": {},
   "source": [
    "# Cross Validation Technique"
   ]
  },
  {
   "cell_type": "markdown",
   "metadata": {},
   "source": [
    "Testing for training dataset."
   ]
  },
  {
   "cell_type": "code",
   "execution_count": 15,
   "metadata": {},
   "outputs": [
    {
     "data": {
      "text/plain": [
       "array([0.23939319, 0.20994031, 0.28080389, 0.24029031, 0.24235254,\n",
       "       0.21612244, 0.23405993, 0.24911729, 0.24016138, 0.26527946])"
      ]
     },
     "execution_count": 15,
     "metadata": {},
     "output_type": "execute_result"
    }
   ],
   "source": [
    "#df_train,df_test = train_test_split(df,train_size=0.7,random_state=42)\n",
    "#x_train=df_train.iloc[:,1:]\n",
    "#y_train=df_train['Appliances']\n",
    "#scaler.fit(x_train)\n",
    "#X_train=scaler.transform(x_train)\n",
    "#x_test=df_test.iloc[:,1:]\n",
    "#y_test=df_test['Appliances']\n",
    "#X_test=scaler.transform(x_test)\n",
    "from sklearn.model_selection import cross_val_score\n",
    "from sklearn.linear_model import LinearRegression\n",
    "accuracy_train = cross_val_score(estimator = LinearRegression() , X = X_train, y = y_train , cv = 10)\n",
    "\n",
    "accuracy_train"
   ]
  },
  {
   "cell_type": "markdown",
   "metadata": {},
   "source": [
    "Mean accuracy."
   ]
  },
  {
   "cell_type": "code",
   "execution_count": 16,
   "metadata": {},
   "outputs": [
    {
     "data": {
      "text/plain": [
       "0.24175207193743198"
      ]
     },
     "execution_count": 16,
     "metadata": {},
     "output_type": "execute_result"
    }
   ],
   "source": [
    "accuracy_train.mean()"
   ]
  },
  {
   "cell_type": "markdown",
   "metadata": {},
   "source": [
    "Performing on testing dataset."
   ]
  },
  {
   "cell_type": "code",
   "execution_count": 17,
   "metadata": {},
   "outputs": [
    {
     "data": {
      "text/plain": [
       "array([0.15211076, 0.20928208, 0.25724492, 0.20743369, 0.26784327,\n",
       "       0.25292395, 0.28916533, 0.22152727, 0.18031048, 0.22997972])"
      ]
     },
     "execution_count": 17,
     "metadata": {},
     "output_type": "execute_result"
    }
   ],
   "source": [
    "from sklearn.model_selection import cross_val_score\n",
    "from sklearn.linear_model import LinearRegression\n",
    "accuracy_test = cross_val_score(estimator = LinearRegression() , X = X_test, y = y_test , cv = 10)\n",
    "\n",
    "accuracy_test"
   ]
  },
  {
   "cell_type": "markdown",
   "metadata": {},
   "source": [
    "Mean accuracy."
   ]
  },
  {
   "cell_type": "code",
   "execution_count": 18,
   "metadata": {},
   "outputs": [
    {
     "data": {
      "text/plain": [
       "0.2267821480096499"
      ]
     },
     "execution_count": 18,
     "metadata": {},
     "output_type": "execute_result"
    }
   ],
   "source": [
    "accuracy_test.mean()"
   ]
  },
  {
   "cell_type": "code",
   "execution_count": null,
   "metadata": {
    "collapsed": true
   },
   "outputs": [],
   "source": []
  }
 ],
 "metadata": {
  "kernelspec": {
   "display_name": "Python 3",
   "language": "python",
   "name": "python3"
  },
  "language_info": {
   "codemirror_mode": {
    "name": "ipython",
    "version": 3
   },
   "file_extension": ".py",
   "mimetype": "text/x-python",
   "name": "python",
   "nbconvert_exporter": "python",
   "pygments_lexer": "ipython3",
   "version": "3.6.5"
  }
 },
 "nbformat": 4,
 "nbformat_minor": 2
}
